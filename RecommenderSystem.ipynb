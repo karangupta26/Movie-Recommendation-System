{
 "cells": [
  {
   "cell_type": "code",
   "execution_count": 1,
   "metadata": {},
   "outputs": [],
   "source": [
    "import pandas as pd\n",
    "import numpy as np\n",
    "import matplotlib as mplot\n",
    "import seaborn as sb\n",
    "import time"
   ]
  },
  {
   "cell_type": "code",
   "execution_count": 2,
   "metadata": {},
   "outputs": [],
   "source": [
    "movies_genres_data=pd.read_csv(\"Movies_genres.csv\")"
   ]
  },
  {
   "cell_type": "code",
   "execution_count": 3,
   "metadata": {},
   "outputs": [],
   "source": [
    "def numeric_eliminator(total_text, index, column):\n",
    "        string = \"\"\n",
    "        #print(total_text.split())\n",
    "        for words in total_text.split():\n",
    "            # remove the special chars in review like '\"#$@!%^&*()_+-~?>< etc.\n",
    "            word = (\"\".join(e for e in words if e.isalpha()))\n",
    "            # Conver all letters to lower-case\n",
    "            word = word.lower()\n",
    "            string += word + \" \"\n",
    "        movies_genres_data[column][index] = string"
   ]
  },
  {
   "cell_type": "code",
   "execution_count": 4,
   "metadata": {},
   "outputs": [
    {
     "name": "stderr",
     "output_type": "stream",
     "text": [
      "C:\\ProgramData\\Anaconda3\\lib\\site-packages\\ipykernel_launcher.py:10: SettingWithCopyWarning: \n",
      "A value is trying to be set on a copy of a slice from a DataFrame\n",
      "\n",
      "See the caveats in the documentation: http://pandas.pydata.org/pandas-docs/stable/indexing.html#indexing-view-versus-copy\n",
      "  # Remove the CWD from sys.path while we load stuff.\n"
     ]
    },
    {
     "name": "stdout",
     "output_type": "stream",
     "text": [
      "6.176678787111492 minutes\n"
     ]
    }
   ],
   "source": [
    "start_time = time.clock()\n",
    "# we take each title and we text-preprocess it.\n",
    "for index, row in movies_genres_data.iterrows():\n",
    "    numeric_eliminator(row['Title'], index, 'Title')\n",
    "# we print the time it took to preprocess whole titles\n",
    "print((time.clock() - start_time)/60, \"minutes\")"
   ]
  },
  {
   "cell_type": "code",
   "execution_count": 5,
   "metadata": {},
   "outputs": [],
   "source": [
    "movies_genres_data.to_csv(\"movies_data.csv\",index=False)"
   ]
  },
  {
   "cell_type": "markdown",
   "metadata": {},
   "source": [
    "# Content Based Recommendation System"
   ]
  },
  {
   "cell_type": "code",
   "execution_count": 2,
   "metadata": {},
   "outputs": [],
   "source": [
    "from sklearn.feature_extraction.text import TfidfVectorizer\n",
    "from sklearn.metrics.pairwise import linear_kernel"
   ]
  },
  {
   "cell_type": "code",
   "execution_count": 3,
   "metadata": {},
   "outputs": [],
   "source": [
    "movies=pd.read_csv('movies.csv')"
   ]
  },
  {
   "cell_type": "code",
   "execution_count": 4,
   "metadata": {},
   "outputs": [],
   "source": [
    "tf = TfidfVectorizer(analyzer='word',min_df=0, stop_words='english')\n",
    "tfidf_matrix = tf.fit_transform(movies['Genres'])"
   ]
  },
  {
   "cell_type": "code",
   "execution_count": 5,
   "metadata": {},
   "outputs": [],
   "source": [
    "cosine_sim = linear_kernel(tfidf_matrix, tfidf_matrix)"
   ]
  },
  {
   "cell_type": "code",
   "execution_count": 6,
   "metadata": {},
   "outputs": [],
   "source": [
    "titles = movies['Title']\n",
    "indices = pd.Series(movies.index, index=movies['Title'])"
   ]
  },
  {
   "cell_type": "code",
   "execution_count": 7,
   "metadata": {},
   "outputs": [],
   "source": [
    "def genre_recommendations(title):\n",
    "    idx = indices[title]\n",
    "    sim_scores = list(enumerate(cosine_sim[idx]))\n",
    "    sim_scores = sorted(sim_scores, key=lambda x: x[1], reverse=True)\n",
    "    sim_scores = sim_scores[1:21]\n",
    "    movie_indices = [i[0] for i in sim_scores]\n",
    "    return titles.iloc[movie_indices]"
   ]
  },
  {
   "cell_type": "code",
   "execution_count": 8,
   "metadata": {},
   "outputs": [
    {
     "data": {
      "text/plain": [
       "25                                        Othello (1995)\n",
       "26                                   Now and Then (1995)\n",
       "29     Shanghai Triad (Yao a yao yao dao waipo qiao) ...\n",
       "30                                Dangerous Minds (1995)\n",
       "35                               Dead Man Walking (1995)\n",
       "39                       Cry, the Beloved Country (1995)\n",
       "42                                    Restoration (1995)\n",
       "52                                       Lamerica (1994)\n",
       "54                                        Georgia (1995)\n",
       "56                          Home for the Holidays (1995)\n",
       "61                             Mr. Holland's Opus (1995)\n",
       "66                                       Two Bits (1995)\n",
       "77                            Crossing Guard, The (1995)\n",
       "79          White Balloon, The (Badkonake Sefid ) (1995)\n",
       "81                       Antonia's Line (Antonia) (1995)\n",
       "82       Once Upon a Time... When We Were Colored (1995)\n",
       "89                    Journey of August King, The (1995)\n",
       "92                                Beautiful Girls (1996)\n",
       "95                               Hate (Haine, La) (1995)\n",
       "112                             Margaret's Museum (1995)\n",
       "Name: Title, dtype: object"
      ]
     },
     "execution_count": 8,
     "metadata": {},
     "output_type": "execute_result"
    }
   ],
   "source": [
    "genre_recommendations('Good Will Hunting (1997)').head(20)"
   ]
  },
  {
   "cell_type": "code",
   "execution_count": 9,
   "metadata": {},
   "outputs": [
    {
     "data": {
      "text/plain": [
       "168                      Hackers (1995)\n",
       "2209                       Ronin (1998)\n",
       "2887    Someone to Watch Over Me (1987)\n",
       "3694                         F/X (1986)\n",
       "3695                       F/X 2 (1992)\n",
       "1884      French Connection, The (1971)\n",
       "2471              Corruptor, The (1999)\n",
       "46                 Seven (Se7en) (1995)\n",
       "49           Usual Suspects, The (1995)\n",
       "517            Romeo Is Bleeding (1993)\n",
       "653                  Purple Noon (1960)\n",
       "1073              Reservoir Dogs (1992)\n",
       "1331            Albino Alligator (1996)\n",
       "1444            City of Industry (1997)\n",
       "1601                 Playing God (1997)\n",
       "1629                   Incognito (1997)\n",
       "1640                  Red Corner (1997)\n",
       "2140          Young and Innocent (1937)\n",
       "2322              Simple Plan, A (1998)\n",
       "2492                  True Crime (1999)\n",
       "Name: Title, dtype: object"
      ]
     },
     "execution_count": 9,
     "metadata": {},
     "output_type": "execute_result"
    }
   ],
   "source": [
    "genre_recommendations('Heat (1995)').head(20)"
   ]
  },
  {
   "cell_type": "markdown",
   "metadata": {},
   "source": [
    "# Model based Collabarative System"
   ]
  },
  {
   "cell_type": "code",
   "execution_count": 2,
   "metadata": {},
   "outputs": [],
   "source": [
    "moviesdata=pd.read_csv('Movies.csv',encoding='utf-8')\n",
    "ratingsdata=pd.read_csv('Ratings.csv',encoding='utf-8')\n",
    "usersdata=pd.read_csv(\"Users.csv\",encoding='utf-8')"
   ]
  },
  {
   "cell_type": "code",
   "execution_count": 3,
   "metadata": {},
   "outputs": [],
   "source": [
    "ratingsdata.columns\n",
    "n_users = ratingsdata['UserID'].unique().shape[0]\n",
    "n_movies = ratingsdata['MovieID'].unique().shape[0]"
   ]
  },
  {
   "cell_type": "code",
   "execution_count": 4,
   "metadata": {},
   "outputs": [],
   "source": [
    "RatingsData=ratingsdata.pivot(index = 'UserID', columns ='MovieID', values = 'Rating').fillna(0)"
   ]
  },
  {
   "cell_type": "code",
   "execution_count": 5,
   "metadata": {},
   "outputs": [
    {
     "data": {
      "text/html": [
       "<div>\n",
       "<style scoped>\n",
       "    .dataframe tbody tr th:only-of-type {\n",
       "        vertical-align: middle;\n",
       "    }\n",
       "\n",
       "    .dataframe tbody tr th {\n",
       "        vertical-align: top;\n",
       "    }\n",
       "\n",
       "    .dataframe thead th {\n",
       "        text-align: right;\n",
       "    }\n",
       "</style>\n",
       "<table border=\"1\" class=\"dataframe\">\n",
       "  <thead>\n",
       "    <tr style=\"text-align: right;\">\n",
       "      <th>MovieID</th>\n",
       "      <th>1</th>\n",
       "      <th>2</th>\n",
       "      <th>3</th>\n",
       "      <th>4</th>\n",
       "      <th>5</th>\n",
       "      <th>6</th>\n",
       "      <th>7</th>\n",
       "      <th>8</th>\n",
       "      <th>9</th>\n",
       "      <th>10</th>\n",
       "      <th>...</th>\n",
       "      <th>3943</th>\n",
       "      <th>3944</th>\n",
       "      <th>3945</th>\n",
       "      <th>3946</th>\n",
       "      <th>3947</th>\n",
       "      <th>3948</th>\n",
       "      <th>3949</th>\n",
       "      <th>3950</th>\n",
       "      <th>3951</th>\n",
       "      <th>3952</th>\n",
       "    </tr>\n",
       "    <tr>\n",
       "      <th>UserID</th>\n",
       "      <th></th>\n",
       "      <th></th>\n",
       "      <th></th>\n",
       "      <th></th>\n",
       "      <th></th>\n",
       "      <th></th>\n",
       "      <th></th>\n",
       "      <th></th>\n",
       "      <th></th>\n",
       "      <th></th>\n",
       "      <th></th>\n",
       "      <th></th>\n",
       "      <th></th>\n",
       "      <th></th>\n",
       "      <th></th>\n",
       "      <th></th>\n",
       "      <th></th>\n",
       "      <th></th>\n",
       "      <th></th>\n",
       "      <th></th>\n",
       "      <th></th>\n",
       "    </tr>\n",
       "  </thead>\n",
       "  <tbody>\n",
       "    <tr>\n",
       "      <th>1</th>\n",
       "      <td>5.0</td>\n",
       "      <td>0.0</td>\n",
       "      <td>0.0</td>\n",
       "      <td>0.0</td>\n",
       "      <td>0.0</td>\n",
       "      <td>0.0</td>\n",
       "      <td>0.0</td>\n",
       "      <td>0.0</td>\n",
       "      <td>0.0</td>\n",
       "      <td>0.0</td>\n",
       "      <td>...</td>\n",
       "      <td>0.0</td>\n",
       "      <td>0.0</td>\n",
       "      <td>0.0</td>\n",
       "      <td>0.0</td>\n",
       "      <td>0.0</td>\n",
       "      <td>0.0</td>\n",
       "      <td>0.0</td>\n",
       "      <td>0.0</td>\n",
       "      <td>0.0</td>\n",
       "      <td>0.0</td>\n",
       "    </tr>\n",
       "    <tr>\n",
       "      <th>2</th>\n",
       "      <td>0.0</td>\n",
       "      <td>0.0</td>\n",
       "      <td>0.0</td>\n",
       "      <td>0.0</td>\n",
       "      <td>0.0</td>\n",
       "      <td>0.0</td>\n",
       "      <td>0.0</td>\n",
       "      <td>0.0</td>\n",
       "      <td>0.0</td>\n",
       "      <td>0.0</td>\n",
       "      <td>...</td>\n",
       "      <td>0.0</td>\n",
       "      <td>0.0</td>\n",
       "      <td>0.0</td>\n",
       "      <td>0.0</td>\n",
       "      <td>0.0</td>\n",
       "      <td>0.0</td>\n",
       "      <td>0.0</td>\n",
       "      <td>0.0</td>\n",
       "      <td>0.0</td>\n",
       "      <td>0.0</td>\n",
       "    </tr>\n",
       "    <tr>\n",
       "      <th>3</th>\n",
       "      <td>0.0</td>\n",
       "      <td>0.0</td>\n",
       "      <td>0.0</td>\n",
       "      <td>0.0</td>\n",
       "      <td>0.0</td>\n",
       "      <td>0.0</td>\n",
       "      <td>0.0</td>\n",
       "      <td>0.0</td>\n",
       "      <td>0.0</td>\n",
       "      <td>0.0</td>\n",
       "      <td>...</td>\n",
       "      <td>0.0</td>\n",
       "      <td>0.0</td>\n",
       "      <td>0.0</td>\n",
       "      <td>0.0</td>\n",
       "      <td>0.0</td>\n",
       "      <td>0.0</td>\n",
       "      <td>0.0</td>\n",
       "      <td>0.0</td>\n",
       "      <td>0.0</td>\n",
       "      <td>0.0</td>\n",
       "    </tr>\n",
       "    <tr>\n",
       "      <th>4</th>\n",
       "      <td>0.0</td>\n",
       "      <td>0.0</td>\n",
       "      <td>0.0</td>\n",
       "      <td>0.0</td>\n",
       "      <td>0.0</td>\n",
       "      <td>0.0</td>\n",
       "      <td>0.0</td>\n",
       "      <td>0.0</td>\n",
       "      <td>0.0</td>\n",
       "      <td>0.0</td>\n",
       "      <td>...</td>\n",
       "      <td>0.0</td>\n",
       "      <td>0.0</td>\n",
       "      <td>0.0</td>\n",
       "      <td>0.0</td>\n",
       "      <td>0.0</td>\n",
       "      <td>0.0</td>\n",
       "      <td>0.0</td>\n",
       "      <td>0.0</td>\n",
       "      <td>0.0</td>\n",
       "      <td>0.0</td>\n",
       "    </tr>\n",
       "    <tr>\n",
       "      <th>5</th>\n",
       "      <td>0.0</td>\n",
       "      <td>0.0</td>\n",
       "      <td>0.0</td>\n",
       "      <td>0.0</td>\n",
       "      <td>0.0</td>\n",
       "      <td>2.0</td>\n",
       "      <td>0.0</td>\n",
       "      <td>0.0</td>\n",
       "      <td>0.0</td>\n",
       "      <td>0.0</td>\n",
       "      <td>...</td>\n",
       "      <td>0.0</td>\n",
       "      <td>0.0</td>\n",
       "      <td>0.0</td>\n",
       "      <td>0.0</td>\n",
       "      <td>0.0</td>\n",
       "      <td>0.0</td>\n",
       "      <td>0.0</td>\n",
       "      <td>0.0</td>\n",
       "      <td>0.0</td>\n",
       "      <td>0.0</td>\n",
       "    </tr>\n",
       "  </tbody>\n",
       "</table>\n",
       "<p>5 rows × 3706 columns</p>\n",
       "</div>"
      ],
      "text/plain": [
       "MovieID  1     2     3     4     5     6     7     8     9     10    ...   \\\n",
       "UserID                                                               ...    \n",
       "1         5.0   0.0   0.0   0.0   0.0   0.0   0.0   0.0   0.0   0.0  ...    \n",
       "2         0.0   0.0   0.0   0.0   0.0   0.0   0.0   0.0   0.0   0.0  ...    \n",
       "3         0.0   0.0   0.0   0.0   0.0   0.0   0.0   0.0   0.0   0.0  ...    \n",
       "4         0.0   0.0   0.0   0.0   0.0   0.0   0.0   0.0   0.0   0.0  ...    \n",
       "5         0.0   0.0   0.0   0.0   0.0   2.0   0.0   0.0   0.0   0.0  ...    \n",
       "\n",
       "MovieID  3943  3944  3945  3946  3947  3948  3949  3950  3951  3952  \n",
       "UserID                                                               \n",
       "1         0.0   0.0   0.0   0.0   0.0   0.0   0.0   0.0   0.0   0.0  \n",
       "2         0.0   0.0   0.0   0.0   0.0   0.0   0.0   0.0   0.0   0.0  \n",
       "3         0.0   0.0   0.0   0.0   0.0   0.0   0.0   0.0   0.0   0.0  \n",
       "4         0.0   0.0   0.0   0.0   0.0   0.0   0.0   0.0   0.0   0.0  \n",
       "5         0.0   0.0   0.0   0.0   0.0   0.0   0.0   0.0   0.0   0.0  \n",
       "\n",
       "[5 rows x 3706 columns]"
      ]
     },
     "execution_count": 5,
     "metadata": {},
     "output_type": "execute_result"
    }
   ],
   "source": [
    "RatingsData.head()"
   ]
  },
  {
   "cell_type": "code",
   "execution_count": 6,
   "metadata": {},
   "outputs": [
    {
     "name": "stderr",
     "output_type": "stream",
     "text": [
      "C:\\ProgramData\\Anaconda3\\lib\\site-packages\\ipykernel_launcher.py:1: FutureWarning: Method .as_matrix will be removed in a future version. Use .values instead.\n",
      "  \"\"\"Entry point for launching an IPython kernel.\n"
     ]
    }
   ],
   "source": [
    "Rd = RatingsData.as_matrix()\n",
    "user_ratings_mean = np.mean(Rd, axis = 1)\n",
    "Ratings_demeaned = Rd - user_ratings_mean.reshape(-1, 1)"
   ]
  },
  {
   "cell_type": "code",
   "execution_count": 7,
   "metadata": {},
   "outputs": [
    {
     "name": "stdout",
     "output_type": "stream",
     "text": [
      "The sparsity level of MovieLens1M dataset is  95.5 %\n"
     ]
    }
   ],
   "source": [
    "sparsity = round(1.0 - len(ratingsdata) / float(n_users * n_movies), 3)\n",
    "print('The sparsity level of MovieLens1M dataset is ' ,  str(sparsity * 100) , '%')"
   ]
  },
  {
   "cell_type": "code",
   "execution_count": 8,
   "metadata": {},
   "outputs": [],
   "source": [
    "from scipy.sparse.linalg import svds\n",
    "U, sigma, Vt = svds(Ratings_demeaned, k = 100)"
   ]
  },
  {
   "cell_type": "code",
   "execution_count": 9,
   "metadata": {},
   "outputs": [],
   "source": [
    "sigma=np.diag(sigma)"
   ]
  },
  {
   "cell_type": "code",
   "execution_count": 10,
   "metadata": {},
   "outputs": [],
   "source": [
    "all_user_predicted_ratings = np.dot(np.dot(U, sigma), Vt) + user_ratings_mean.reshape(-1, 1)"
   ]
  },
  {
   "cell_type": "code",
   "execution_count": 11,
   "metadata": {},
   "outputs": [
    {
     "data": {
      "text/html": [
       "<div>\n",
       "<style scoped>\n",
       "    .dataframe tbody tr th:only-of-type {\n",
       "        vertical-align: middle;\n",
       "    }\n",
       "\n",
       "    .dataframe tbody tr th {\n",
       "        vertical-align: top;\n",
       "    }\n",
       "\n",
       "    .dataframe thead th {\n",
       "        text-align: right;\n",
       "    }\n",
       "</style>\n",
       "<table border=\"1\" class=\"dataframe\">\n",
       "  <thead>\n",
       "    <tr style=\"text-align: right;\">\n",
       "      <th>MovieID</th>\n",
       "      <th>1</th>\n",
       "      <th>2</th>\n",
       "      <th>3</th>\n",
       "      <th>4</th>\n",
       "      <th>5</th>\n",
       "      <th>6</th>\n",
       "      <th>7</th>\n",
       "      <th>8</th>\n",
       "      <th>9</th>\n",
       "      <th>10</th>\n",
       "      <th>...</th>\n",
       "      <th>3943</th>\n",
       "      <th>3944</th>\n",
       "      <th>3945</th>\n",
       "      <th>3946</th>\n",
       "      <th>3947</th>\n",
       "      <th>3948</th>\n",
       "      <th>3949</th>\n",
       "      <th>3950</th>\n",
       "      <th>3951</th>\n",
       "      <th>3952</th>\n",
       "    </tr>\n",
       "  </thead>\n",
       "  <tbody>\n",
       "    <tr>\n",
       "      <th>0</th>\n",
       "      <td>5.157608</td>\n",
       "      <td>0.184833</td>\n",
       "      <td>0.348341</td>\n",
       "      <td>-0.022609</td>\n",
       "      <td>0.139622</td>\n",
       "      <td>-0.156937</td>\n",
       "      <td>-0.061122</td>\n",
       "      <td>0.072117</td>\n",
       "      <td>0.018278</td>\n",
       "      <td>-0.372566</td>\n",
       "      <td>...</td>\n",
       "      <td>-0.111771</td>\n",
       "      <td>-0.002460</td>\n",
       "      <td>0.016625</td>\n",
       "      <td>-0.107081</td>\n",
       "      <td>-0.051609</td>\n",
       "      <td>0.022706</td>\n",
       "      <td>-0.114028</td>\n",
       "      <td>0.009476</td>\n",
       "      <td>0.070798</td>\n",
       "      <td>-0.195959</td>\n",
       "    </tr>\n",
       "    <tr>\n",
       "      <th>1</th>\n",
       "      <td>0.557186</td>\n",
       "      <td>0.296927</td>\n",
       "      <td>0.078853</td>\n",
       "      <td>-0.013888</td>\n",
       "      <td>0.028675</td>\n",
       "      <td>1.092160</td>\n",
       "      <td>-0.054492</td>\n",
       "      <td>0.114191</td>\n",
       "      <td>0.090106</td>\n",
       "      <td>1.695371</td>\n",
       "      <td>...</td>\n",
       "      <td>0.002564</td>\n",
       "      <td>-0.022910</td>\n",
       "      <td>-0.031687</td>\n",
       "      <td>0.072002</td>\n",
       "      <td>-0.008174</td>\n",
       "      <td>-0.418219</td>\n",
       "      <td>-0.225593</td>\n",
       "      <td>-0.005716</td>\n",
       "      <td>0.033955</td>\n",
       "      <td>0.039606</td>\n",
       "    </tr>\n",
       "    <tr>\n",
       "      <th>2</th>\n",
       "      <td>2.176318</td>\n",
       "      <td>0.396428</td>\n",
       "      <td>0.302057</td>\n",
       "      <td>-0.117164</td>\n",
       "      <td>-0.006330</td>\n",
       "      <td>0.077833</td>\n",
       "      <td>0.000836</td>\n",
       "      <td>0.064654</td>\n",
       "      <td>-0.018309</td>\n",
       "      <td>1.062417</td>\n",
       "      <td>...</td>\n",
       "      <td>0.036894</td>\n",
       "      <td>-0.008054</td>\n",
       "      <td>0.026507</td>\n",
       "      <td>0.053735</td>\n",
       "      <td>0.025591</td>\n",
       "      <td>0.024825</td>\n",
       "      <td>0.169800</td>\n",
       "      <td>0.061687</td>\n",
       "      <td>0.028985</td>\n",
       "      <td>-0.243151</td>\n",
       "    </tr>\n",
       "    <tr>\n",
       "      <th>3</th>\n",
       "      <td>0.194185</td>\n",
       "      <td>0.155507</td>\n",
       "      <td>0.046863</td>\n",
       "      <td>0.047477</td>\n",
       "      <td>-0.014495</td>\n",
       "      <td>0.247765</td>\n",
       "      <td>-0.057580</td>\n",
       "      <td>-0.006338</td>\n",
       "      <td>0.007387</td>\n",
       "      <td>-0.423240</td>\n",
       "      <td>...</td>\n",
       "      <td>-0.049155</td>\n",
       "      <td>-0.010652</td>\n",
       "      <td>0.007342</td>\n",
       "      <td>-0.005267</td>\n",
       "      <td>-0.031352</td>\n",
       "      <td>-0.166973</td>\n",
       "      <td>0.022989</td>\n",
       "      <td>-0.033161</td>\n",
       "      <td>-0.011156</td>\n",
       "      <td>-0.129075</td>\n",
       "    </tr>\n",
       "    <tr>\n",
       "      <th>4</th>\n",
       "      <td>0.243474</td>\n",
       "      <td>-0.491501</td>\n",
       "      <td>-0.008307</td>\n",
       "      <td>0.139973</td>\n",
       "      <td>-0.204174</td>\n",
       "      <td>1.664607</td>\n",
       "      <td>-0.133342</td>\n",
       "      <td>-0.047117</td>\n",
       "      <td>-0.118995</td>\n",
       "      <td>0.129404</td>\n",
       "      <td>...</td>\n",
       "      <td>0.054157</td>\n",
       "      <td>0.065400</td>\n",
       "      <td>0.004748</td>\n",
       "      <td>-0.072018</td>\n",
       "      <td>-0.106567</td>\n",
       "      <td>-0.590538</td>\n",
       "      <td>0.219853</td>\n",
       "      <td>-0.062958</td>\n",
       "      <td>0.105441</td>\n",
       "      <td>0.009634</td>\n",
       "    </tr>\n",
       "  </tbody>\n",
       "</table>\n",
       "<p>5 rows × 3706 columns</p>\n",
       "</div>"
      ],
      "text/plain": [
       "MovieID      1         2         3         4         5         6         7     \\\n",
       "0        5.157608  0.184833  0.348341 -0.022609  0.139622 -0.156937 -0.061122   \n",
       "1        0.557186  0.296927  0.078853 -0.013888  0.028675  1.092160 -0.054492   \n",
       "2        2.176318  0.396428  0.302057 -0.117164 -0.006330  0.077833  0.000836   \n",
       "3        0.194185  0.155507  0.046863  0.047477 -0.014495  0.247765 -0.057580   \n",
       "4        0.243474 -0.491501 -0.008307  0.139973 -0.204174  1.664607 -0.133342   \n",
       "\n",
       "MovieID      8         9         10      ...         3943      3944      3945  \\\n",
       "0        0.072117  0.018278 -0.372566    ...    -0.111771 -0.002460  0.016625   \n",
       "1        0.114191  0.090106  1.695371    ...     0.002564 -0.022910 -0.031687   \n",
       "2        0.064654 -0.018309  1.062417    ...     0.036894 -0.008054  0.026507   \n",
       "3       -0.006338  0.007387 -0.423240    ...    -0.049155 -0.010652  0.007342   \n",
       "4       -0.047117 -0.118995  0.129404    ...     0.054157  0.065400  0.004748   \n",
       "\n",
       "MovieID      3946      3947      3948      3949      3950      3951      3952  \n",
       "0       -0.107081 -0.051609  0.022706 -0.114028  0.009476  0.070798 -0.195959  \n",
       "1        0.072002 -0.008174 -0.418219 -0.225593 -0.005716  0.033955  0.039606  \n",
       "2        0.053735  0.025591  0.024825  0.169800  0.061687  0.028985 -0.243151  \n",
       "3       -0.005267 -0.031352 -0.166973  0.022989 -0.033161 -0.011156 -0.129075  \n",
       "4       -0.072018 -0.106567 -0.590538  0.219853 -0.062958  0.105441  0.009634  \n",
       "\n",
       "[5 rows x 3706 columns]"
      ]
     },
     "execution_count": 11,
     "metadata": {},
     "output_type": "execute_result"
    }
   ],
   "source": [
    "preds = pd.DataFrame(all_user_predicted_ratings, columns = RatingsData.columns)\n",
    "preds.head()"
   ]
  },
  {
   "cell_type": "code",
   "execution_count": 16,
   "metadata": {},
   "outputs": [],
   "source": [
    "def recommend_movies(predictions, userID, movies, original_ratings, num_recommendations):\n",
    "    \n",
    "    # Get and sort the user's predictions\n",
    "    user_row_number = userID - 1 # User ID starts at 1, not 0\n",
    "    sorted_user_predictions = preds.iloc[user_row_number].sort_values(ascending=False) # User ID starts at 1\n",
    "    \n",
    "    # Get the user's data and merge in the movie information.\n",
    "    user_data = original_ratings[original_ratings.UserID == (userID)]\n",
    "    user_full = (user_data.merge(movies, how = 'left', left_on = 'MovieID', right_on = 'MovieID').\n",
    "                     sort_values(['Rating'], ascending=False)\n",
    "                 )\n",
    "\n",
    "    print('User {0} has already rated {1} movies.'.format(userID, user_full.shape[0]))\n",
    "    print('Recommending highest {0} predicted ratings movies not already rated.'.format(num_recommendations))\n",
    "    \n",
    "    # Recommend the highest predicted rating movies that the user hasn't seen yet.\n",
    "    recommendations = (movies[~movies['MovieID'].isin(user_full['MovieID'])].\n",
    "         merge(pd.DataFrame(sorted_user_predictions).reset_index(), how = 'left',\n",
    "               left_on = 'MovieID',\n",
    "               right_on = 'MovieID').\n",
    "         rename(columns = {user_row_number: 'Predictions'}).\n",
    "         sort_values('Predictions', ascending = False).\n",
    "                       iloc[:num_recommendations, :-1]\n",
    "                      )\n",
    "\n",
    "    return user_full, recommendations"
   ]
  },
  {
   "cell_type": "code",
   "execution_count": 17,
   "metadata": {},
   "outputs": [
    {
     "name": "stdout",
     "output_type": "stream",
     "text": [
      "User 1310 has already rated 24 movies.\n",
      "Recommending highest 20 predicted ratings movies not already rated.\n"
     ]
    }
   ],
   "source": [
    "already_rated, predictions = recommend_movies(preds, 1310, moviesdata, ratingsdata, 20)"
   ]
  },
  {
   "cell_type": "code",
   "execution_count": null,
   "metadata": {},
   "outputs": [],
   "source": []
  },
  {
   "cell_type": "code",
   "execution_count": null,
   "metadata": {},
   "outputs": [],
   "source": []
  },
  {
   "cell_type": "code",
   "execution_count": null,
   "metadata": {},
   "outputs": [],
   "source": []
  },
  {
   "cell_type": "code",
   "execution_count": null,
   "metadata": {},
   "outputs": [],
   "source": []
  },
  {
   "cell_type": "code",
   "execution_count": null,
   "metadata": {},
   "outputs": [],
   "source": []
  },
  {
   "cell_type": "code",
   "execution_count": null,
   "metadata": {},
   "outputs": [],
   "source": []
  },
  {
   "cell_type": "code",
   "execution_count": null,
   "metadata": {},
   "outputs": [],
   "source": []
  },
  {
   "cell_type": "code",
   "execution_count": null,
   "metadata": {},
   "outputs": [],
   "source": []
  },
  {
   "cell_type": "code",
   "execution_count": null,
   "metadata": {},
   "outputs": [],
   "source": []
  },
  {
   "cell_type": "code",
   "execution_count": null,
   "metadata": {},
   "outputs": [],
   "source": []
  },
  {
   "cell_type": "code",
   "execution_count": null,
   "metadata": {},
   "outputs": [],
   "source": []
  },
  {
   "cell_type": "code",
   "execution_count": null,
   "metadata": {},
   "outputs": [],
   "source": []
  },
  {
   "cell_type": "code",
   "execution_count": null,
   "metadata": {},
   "outputs": [],
   "source": []
  },
  {
   "cell_type": "code",
   "execution_count": null,
   "metadata": {},
   "outputs": [],
   "source": []
  }
 ],
 "metadata": {
  "kernelspec": {
   "display_name": "Python 3",
   "language": "python",
   "name": "python3"
  },
  "language_info": {
   "codemirror_mode": {
    "name": "ipython",
    "version": 3
   },
   "file_extension": ".py",
   "mimetype": "text/x-python",
   "name": "python",
   "nbconvert_exporter": "python",
   "pygments_lexer": "ipython3",
   "version": "3.6.5"
  }
 },
 "nbformat": 4,
 "nbformat_minor": 2
}
